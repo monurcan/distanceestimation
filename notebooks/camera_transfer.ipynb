{
 "cells": [
  {
   "cell_type": "code",
   "execution_count": 9,
   "metadata": {},
   "outputs": [],
   "source": [
    "fx_c = 1736.9164994615003\n",
    "fy_c = 1736.519093525162\n",
    "cx_c = 1447.830945138541\n",
    "cy_c = 1445.628637704464\n",
    "\n",
    "fx_i = 1824.81752\n",
    "fy_i = 1824.81752\n",
    "cx_i = 1419.5\n",
    "cy_i = 1419.5"
   ]
  },
  {
   "cell_type": "code",
   "execution_count": 12,
   "metadata": {},
   "outputs": [],
   "source": [
    "alpha_x = fx_c / fx_i\n",
    "alpha_y = fy_c / fy_i\n",
    "beta_x =  cx_i - cx_c * alpha_x\n",
    "beta_y = cy_i - cy_c * alpha_y"
   ]
  },
  {
   "cell_type": "code",
   "execution_count": 13,
   "metadata": {},
   "outputs": [
    {
     "data": {
      "text/plain": [
       "(0.9518302407911451, 0.9516124623382407, 41.41072286391136, 43.821772447378635)"
      ]
     },
     "execution_count": 13,
     "metadata": {},
     "output_type": "execute_result"
    }
   ],
   "source": [
    "alpha_x, alpha_y, beta_x, beta_y"
   ]
  }
 ],
 "metadata": {
  "kernelspec": {
   "display_name": "Python 3",
   "language": "python",
   "name": "python3"
  },
  "language_info": {
   "codemirror_mode": {
    "name": "ipython",
    "version": 3
   },
   "file_extension": ".py",
   "mimetype": "text/x-python",
   "name": "python",
   "nbconvert_exporter": "python",
   "pygments_lexer": "ipython3",
   "version": "3.9.6"
  },
  "orig_nbformat": 4
 },
 "nbformat": 4,
 "nbformat_minor": 2
}
